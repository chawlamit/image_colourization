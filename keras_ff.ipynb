{
 "cells": [
  {
   "cell_type": "code",
   "execution_count": 1,
   "metadata": {},
   "outputs": [
    {
     "name": "stderr",
     "output_type": "stream",
     "text": [
      "Using TensorFlow backend.\n"
     ]
    }
   ],
   "source": [
    "import keras\n",
    "from keras.models import Sequential\n",
    "from keras.layers import Dense\n",
    "from PIL import Image\n",
    "import json\n",
    "import requests\n",
    "from io import BytesIO\n",
    "import numpy as np"
   ]
  },
  {
   "cell_type": "code",
   "execution_count": 4,
   "metadata": {},
   "outputs": [
    {
     "name": "stdout",
     "output_type": "stream",
     "text": [
      "Processing Img: 27950322870_771d53a6e2.jpg\n",
      "Processing Img: 27927622835_32b1427ea7.jpg\n",
      "Generating data from 2 images\n"
     ]
    }
   ],
   "source": [
    "from ann.image_operations import * \n",
    "\n",
    "# global variables\n",
    "window_shape = (5, 5)\n",
    "row_margin = window_shape[0] // 2\n",
    "col_margin = window_shape[1] // 2\n",
    "\n",
    "if __name__ == '__main__':\n",
    "    x_data = []\n",
    "    y_data = []\n",
    "    with open('dataset/forest_photos_info.json', 'r') as fo:\n",
    "        dataset = json.loads(fo.read())\n",
    "        for i, image_key in enumerate(dataset):\n",
    "            print(f\"Processing Img: {image_key}\")\n",
    "            img = get_image_from_url(dataset[image_key]['url'])\n",
    "            # img.show()\n",
    "            # input()\n",
    "            generate_data_set_from_image(img, x_data, y_data, window_shape)\n",
    "            if i == 1:\n",
    "                print(f\"Generating data from {i+1} images\")\n",
    "                break"
   ]
  },
  {
   "cell_type": "code",
   "execution_count": 5,
   "metadata": {},
   "outputs": [],
   "source": [
    "model = Sequential()\n",
    "\n",
    "model.add(Dense(30, input_dim=window_shape[0] * window_shape[1], activation='sigmoid'))\n",
    "model.add(Dense(15, activation='sigmoid'))\n",
    "model.add(Dense(3))\n",
    "          \n",
    "model.compile(loss='mean_squared_error', optimizer='adam', metrics=['accuracy'])"
   ]
  },
  {
   "cell_type": "code",
   "execution_count": 6,
   "metadata": {},
   "outputs": [
    {
     "name": "stdout",
     "output_type": "stream",
     "text": [
      "Epoch 1/1\n",
      "324384/324384 [==============================] - 18s 55us/step - loss: 0.0289 - accuracy: 0.8063\n"
     ]
    },
    {
     "data": {
      "text/plain": [
       "<keras.callbacks.callbacks.History at 0x13f880f10>"
      ]
     },
     "execution_count": 6,
     "metadata": {},
     "output_type": "execute_result"
    }
   ],
   "source": [
    "model.fit(np.array(x_data), np.array(y_data))"
   ]
  },
  {
   "cell_type": "markdown",
   "metadata": {},
   "source": [
    "### Now Let's try to predict the output image"
   ]
  },
  {
   "cell_type": "code",
   "execution_count": 96,
   "metadata": {},
   "outputs": [
    {
     "data": {
      "text/plain": [
       "['1299455_fb3636f431.jpg',\n",
       " '7460265344_f3a60b2a6d.jpg',\n",
       " '5660119953_229aac8e2d.jpg',\n",
       " '14759591072_a6bfaa05ac.jpg',\n",
       " '26911681691_7b7494d1bc.jpg',\n",
       " '7793140654_4f8abfb57c.jpg',\n",
       " '13193044613_345bf475bd.jpg',\n",
       " '4692542180_71ebaa29a7.jpg',\n",
       " '4124025640_59d557c75a.jpg']"
      ]
     },
     "execution_count": 96,
     "metadata": {},
     "output_type": "execute_result"
    }
   ],
   "source": [
    "list(dataset.keys())[-10:-1]"
   ]
  },
  {
   "cell_type": "code",
   "execution_count": 99,
   "metadata": {},
   "outputs": [],
   "source": [
    "# test image\n",
    "img_str = '4124025640_59d557c75a.jpg'\n",
    "img = get_image_from_url(dataset[img_str]['url'])\n",
    "np_img = np.asarray(img)\n",
    "img.show()\n",
    "\n",
    "# gray scale\n",
    "gray_img = 0.21*np_img[:, :, 0] + 0.72*np_img[:, :, 1] + 0.07*np_img[:, :, 2]\n",
    "gray_img = Image.fromarray(gray_img.astype(np.uint8))\n",
    "gray_img.show()"
   ]
  },
  {
   "cell_type": "code",
   "execution_count": 100,
   "metadata": {},
   "outputs": [
    {
     "name": "stdout",
     "output_type": "stream",
     "text": [
      "(495, 329, 3)\n"
     ]
    }
   ],
   "source": [
    "x_test, y_test = [], []\n",
    "\n",
    "generate_data_set_from_image(img, x_test, y_test, window_shape)\n",
    "out = [model.predict(x_test, y_test)]\n",
    "out = out * 255\n",
    "out = out.reshape(np_img.shape - np.array([2*row_margin, 2*col_margin, 0]))\n",
    "print(out.shape)\n",
    "\n",
    "out_img = Image.fromarray(out.astype(np.uint8))\n",
    "out_img.show()"
   ]
  },
  {
   "cell_type": "markdown",
   "metadata": {},
   "source": [
    "#### end #####"
   ]
  },
  {
   "cell_type": "code",
   "execution_count": null,
   "metadata": {},
   "outputs": [],
   "source": []
  }
 ],
 "metadata": {
  "kernelspec": {
   "display_name": "Python 3",
   "language": "python",
   "name": "python3"
  },
  "language_info": {
   "codemirror_mode": {
    "name": "ipython",
    "version": 3
   },
   "file_extension": ".py",
   "mimetype": "text/x-python",
   "name": "python",
   "nbconvert_exporter": "python",
   "pygments_lexer": "ipython3",
   "version": "3.7.4"
  }
 },
 "nbformat": 4,
 "nbformat_minor": 4
}
